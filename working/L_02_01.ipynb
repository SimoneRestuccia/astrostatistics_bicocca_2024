{
 "cells": [
  {
   "cell_type": "code",
   "execution_count": 85,
   "id": "8938cbcd-df97-4e80-938f-ec9e18d3e352",
   "metadata": {},
   "outputs": [],
   "source": [
    "import numpy as np"
   ]
  },
  {
   "cell_type": "code",
   "execution_count": 86,
   "id": "91e4b0ca-3573-40ed-92a9-17567a11e4e5",
   "metadata": {},
   "outputs": [],
   "source": [
    "doors = np.zeros(3)"
   ]
  },
  {
   "cell_type": "code",
   "execution_count": 87,
   "id": "211d7f47-a6ef-4d08-90f2-f324bd54b668",
   "metadata": {},
   "outputs": [
    {
     "name": "stdout",
     "output_type": "stream",
     "text": [
      "[0. 1. 0.]\n"
     ]
    }
   ],
   "source": [
    "ind = np.random.choice([0,1,2])\n",
    "doors[ind] = 1\n",
    "print (doors)"
   ]
  },
  {
   "cell_type": "code",
   "execution_count": 88,
   "id": "1b1b5dc8-ad7e-4416-abe9-7753765fab36",
   "metadata": {},
   "outputs": [
    {
     "name": "stdout",
     "output_type": "stream",
     "text": [
      "0\n"
     ]
    }
   ],
   "source": [
    "choice1 = np.random.choice([0,1,2])\n",
    "print (choice1)"
   ]
  },
  {
   "cell_type": "code",
   "execution_count": 89,
   "id": "aef91456-94af-45ec-ab87-0001c550ed07",
   "metadata": {},
   "outputs": [
    {
     "name": "stdout",
     "output_type": "stream",
     "text": [
      "0\n"
     ]
    }
   ],
   "source": [
    "choice2 = np.random.choice([0,1,2])\n",
    "print (choice2)"
   ]
  },
  {
   "cell_type": "code",
   "execution_count": 90,
   "id": "55baf8a1-b467-4f5e-931d-b1ee6d9c91e5",
   "metadata": {},
   "outputs": [
    {
     "name": "stdout",
     "output_type": "stream",
     "text": [
      "Player 1 lose!\n"
     ]
    }
   ],
   "source": [
    "if choice1==ind:\n",
    "    print ('Player 1 won!')\n",
    "else :\n",
    "    print ('Player 1 lose!')"
   ]
  },
  {
   "cell_type": "code",
   "execution_count": null,
   "id": "d21debda-7e4d-4c63-9631-fea31dc009df",
   "metadata": {},
   "outputs": [],
   "source": [
    "if choice2==ind:\n",
    "    print ('Player 2 lose!')\n",
    "else"
   ]
  },
  {
   "cell_type": "code",
   "execution_count": null,
   "id": "bb716037-be07-407b-a50f-1dc7f0b2185b",
   "metadata": {},
   "outputs": [],
   "source": []
  }
 ],
 "metadata": {
  "kernelspec": {
   "display_name": "Python 3 (ipykernel)",
   "language": "python",
   "name": "python3"
  },
  "language_info": {
   "codemirror_mode": {
    "name": "ipython",
    "version": 3
   },
   "file_extension": ".py",
   "mimetype": "text/x-python",
   "name": "python",
   "nbconvert_exporter": "python",
   "pygments_lexer": "ipython3",
   "version": "3.11.7"
  }
 },
 "nbformat": 4,
 "nbformat_minor": 5
}
